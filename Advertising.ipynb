{
  "nbformat": 4,
  "nbformat_minor": 0,
  "metadata": {
    "colab": {
      "private_outputs": true,
      "provenance": []
    },
    "kernelspec": {
      "name": "python3",
      "display_name": "Python 3"
    },
    "language_info": {
      "name": "python"
    }
  },
  "cells": [
    {
      "cell_type": "code",
      "source": [
        "import pandas as pd\n",
        "import numpy as np\n",
        "import matplotlib.pyplot as plt\n",
        "import seaborn as sns\n",
        "from sklearn.model_selection import train_test_split\n",
        "from sklearn.linear_model import LinearRegression\n",
        "from sklearn.tree import DecisionTreeRegressor\n",
        "from sklearn.ensemble import RandomForestRegressor\n",
        "from sklearn.metrics import mean_squared_error, r2_score\n",
        "from sklearn.model_selection import train_test_split, GridSearchCV"
      ],
      "metadata": {
        "id": "-0Lv9jn7wBVP"
      },
      "execution_count": null,
      "outputs": []
    },
    {
      "cell_type": "markdown",
      "source": [
        "# ***EXPLOR THE DATA SET***"
      ],
      "metadata": {
        "id": "35yfO1Zy7-z4"
      }
    },
    {
      "cell_type": "code",
      "source": [
        "# Load the dataset\n",
        "data = pd.read_csv('/content/drive/MyDrive/Advertising.csv')\n",
        "data.head()"
      ],
      "metadata": {
        "id": "0zxhmogswErW"
      },
      "execution_count": null,
      "outputs": []
    },
    {
      "cell_type": "code",
      "source": [
        "data.tail()"
      ],
      "metadata": {
        "id": "B9Kh5JKr9QOl"
      },
      "execution_count": null,
      "outputs": []
    },
    {
      "cell_type": "code",
      "source": [
        "# statistical summary of data\n",
        "num_sum = data.describe()\n",
        "palette = sns.color_palette('cividis', as_cmap=True)\n",
        "num_sum.style.background_gradient(cmap=palette)"
      ],
      "metadata": {
        "id": "3PPcgEK281jl"
      },
      "execution_count": null,
      "outputs": []
    },
    {
      "cell_type": "code",
      "source": [
        "# shape of data\n",
        "data.shape"
      ],
      "metadata": {
        "id": "waHzEudp9ryk"
      },
      "execution_count": null,
      "outputs": []
    },
    {
      "cell_type": "markdown",
      "source": [
        "# ***DATA CLEANING***"
      ],
      "metadata": {
        "id": "K7ZAm-xf9nsk"
      }
    },
    {
      "cell_type": "code",
      "source": [
        "# Check for missing values\n",
        "print(data.isnull().sum())\n",
        "\n",
        "# Visualize the correlation matrix\n",
        "plt.figure(figsize=(10, 6))\n",
        "sns.heatmap(data.corr(), annot=True, fmt=\".2f\")\n",
        "plt.title('Correlation Matrix')\n",
        "plt.show()"
      ],
      "metadata": {
        "id": "ZwmCNf9TwRz4"
      },
      "execution_count": null,
      "outputs": []
    },
    {
      "cell_type": "code",
      "source": [
        "# info of data\n",
        "data.info()"
      ],
      "metadata": {
        "id": "-NfETgom-qMA"
      },
      "execution_count": null,
      "outputs": []
    },
    {
      "cell_type": "markdown",
      "source": [
        "# ***DUPLICATES IDENTIFY***"
      ],
      "metadata": {
        "id": "ti3tr7iT_8u3"
      }
    },
    {
      "cell_type": "code",
      "source": [
        "# duplicate values\n",
        "duplicates = data.duplicated().sum()\n",
        "print(f\"Number of duplicate rows = {duplicates}\")\n",
        "\n",
        "# drop duplicates\n",
        "print(\"After dropping duplicates\")\n",
        "data.drop_duplicates(inplace=True)\n",
        "print(f\"Number of duplicate rows = {data.duplicated().sum()}\")"
      ],
      "metadata": {
        "id": "UoXP0b0O_9rx"
      },
      "execution_count": null,
      "outputs": []
    },
    {
      "cell_type": "code",
      "source": [
        "# Features and target variable\n",
        "X = data[['TV', 'Radio', 'Newspaper']]\n",
        "y = data['Sales']"
      ],
      "metadata": {
        "id": "G5iX1HP7wVPA"
      },
      "execution_count": null,
      "outputs": []
    },
    {
      "cell_type": "markdown",
      "source": [
        "# ***DATA PRE-PROCESSING***"
      ],
      "metadata": {
        "id": "lHPn1Qv3JXK0"
      }
    },
    {
      "cell_type": "code",
      "source": [
        "import matplotlib.pyplot as plt\n",
        "import seaborn as sns\n",
        "\n",
        "# Calculate skewness\n",
        "skewness = data['Sales'].skew()\n",
        "print(f'Skewness of Sales: {skewness}')\n",
        "\n",
        "plt.figure(figsize=(10, 6))\n",
        "sns.histplot(data['Sales'], bins=30, kde=True)\n",
        "plt.title('Distribution of Sales')\n",
        "plt.xlabel('Sales')\n",
        "plt.ylabel('Frequency')\n",
        "plt.show()"
      ],
      "metadata": {
        "id": "JCev65geB7CJ"
      },
      "execution_count": null,
      "outputs": []
    },
    {
      "cell_type": "code",
      "source": [
        "plt.figure(figsize=(12, 8))\n",
        "sns.pairplot(data, x_vars=['TV', 'Radio', 'Newspaper'], y_vars='Sales', height=5, aspect=0.7)\n",
        "plt.suptitle('Advertising Budget vs Sales', y=1.02)\n",
        "plt.show()"
      ],
      "metadata": {
        "id": "f08DTC3eCABT"
      },
      "execution_count": null,
      "outputs": []
    },
    {
      "cell_type": "markdown",
      "source": [
        "F"
      ],
      "metadata": {
        "id": "3H2j817nCItC"
      }
    },
    {
      "cell_type": "code",
      "source": [
        "print(data.dtypes)"
      ],
      "metadata": {
        "id": "hZ7tMJcZJgys"
      },
      "execution_count": null,
      "outputs": []
    },
    {
      "cell_type": "markdown",
      "source": [
        "# ***FEATURE ENGINEERING***"
      ],
      "metadata": {
        "id": "ScKvWbhZJ8cc"
      }
    },
    {
      "cell_type": "code",
      "source": [
        "# Example: Create a feature for total advertising budget\n",
        "data['Total_Ad_Budget'] = data['TV'] + data['Radio'] + data['Newspaper']"
      ],
      "metadata": {
        "id": "eS-1DctNCJYl"
      },
      "execution_count": null,
      "outputs": []
    },
    {
      "cell_type": "code",
      "source": [
        "import numpy as np\n",
        "\n",
        "data['Log_Sales'] = np.log(data['Sales'] + 1)  # Adding 1 to avoid log(0)"
      ],
      "metadata": {
        "id": "soCSEbzLCMFp"
      },
      "execution_count": null,
      "outputs": []
    },
    {
      "cell_type": "markdown",
      "source": [
        "# **Encoding Categorical Variables**"
      ],
      "metadata": {
        "id": "M0mqZodiKFY6"
      }
    },
    {
      "cell_type": "code",
      "source": [
        "# Example: If there were a categorical variable 'Category'\n",
        "# data = pd.get_dummies(data, columns=['Category'], drop_first=True)"
      ],
      "metadata": {
        "id": "ni0Bdx9ECOTN"
      },
      "execution_count": null,
      "outputs": []
    },
    {
      "cell_type": "markdown",
      "source": [
        "# ***FEATURE SCALING***"
      ],
      "metadata": {
        "id": "zH8L7tRLJr-N"
      }
    },
    {
      "cell_type": "code",
      "source": [
        "from sklearn.preprocessing import StandardScaler\n",
        "\n",
        "scaler = StandardScaler()\n",
        "data[['TV', 'Radio', 'Newspaper', 'Total_Ad_Budget']] = scaler.fit_transform(data[['TV', 'Radio', 'Newspaper', 'Total_Ad_Budget']])"
      ],
      "metadata": {
        "id": "zeNig4WUCRrY"
      },
      "execution_count": null,
      "outputs": []
    },
    {
      "cell_type": "markdown",
      "source": [
        "# ***SPLIT THE DATA SET***"
      ],
      "metadata": {
        "id": "slUaM-gR_rOy"
      }
    },
    {
      "cell_type": "code",
      "source": [
        "from sklearn.model_selection import train_test_split\n",
        "\n",
        "X = data[['TV', 'Radio', 'Newspaper', 'Total_Ad_Budget']]\n",
        "y = data['Sales']\n",
        "\n",
        "X_train, X_test, y_train, y_test = train_test_split(X, y, test_size=0.2, random_state=42)"
      ],
      "metadata": {
        "id": "RN6KagkvCfiq"
      },
      "execution_count": null,
      "outputs": []
    },
    {
      "cell_type": "markdown",
      "source": [
        "# ***Model Training & Model Evaluation***"
      ],
      "metadata": {
        "id": "CVLMc3znLBo_"
      }
    },
    {
      "cell_type": "code",
      "source": [
        "# Train Linear Regression model\n",
        "lin_reg = LinearRegression()\n",
        "lin_reg.fit(X_train, y_train)\n",
        "\n",
        "# Predictions\n",
        "y_pred_lin = lin_reg.predict(X_test)"
      ],
      "metadata": {
        "id": "RUIEZyBtwiZG"
      },
      "execution_count": null,
      "outputs": []
    },
    {
      "cell_type": "code",
      "source": [
        "# Train Decision Tree model\n",
        "tree_reg = DecisionTreeRegressor(random_state=42)\n",
        "tree_reg.fit(X_train, y_train)\n",
        "\n",
        "# Predictions\n",
        "y_pred_tree = tree_reg.predict(X_test)"
      ],
      "metadata": {
        "id": "1CLPHjCbwmtp"
      },
      "execution_count": null,
      "outputs": []
    },
    {
      "cell_type": "code",
      "source": [
        "# Train Random Forest model\n",
        "forest_reg = RandomForestRegressor(random_state=42)\n",
        "forest_reg.fit(X_train, y_train)\n",
        "\n",
        "# Predictions\n",
        "y_pred_forest = forest_reg.predict(X_test)"
      ],
      "metadata": {
        "id": "l5NuHWKUwwQ9"
      },
      "execution_count": null,
      "outputs": []
    },
    {
      "cell_type": "code",
      "source": [
        "# Function to evaluate models\n",
        "def evaluate_model(y_test, y_pred):\n",
        "    mse = mean_squared_error(y_test, y_pred)\n",
        "    r2 = r2_score(y_test, y_pred)\n",
        "    return mse, r2\n",
        "\n",
        "# Evaluate Linear Regression\n",
        "mse_lin, r2_lin = evaluate_model(y_test, y_pred_lin)\n",
        "\n",
        "# Evaluate Decision Tree\n",
        "mse_tree, r2_tree = evaluate_model(y_test, y_pred_tree)\n",
        "\n",
        "# Evaluate Random Forest\n",
        "mse_forest, r2_forest = evaluate_model(y_test, y_pred_forest)\n",
        "\n",
        "# Print results\n",
        "print(f\"Linear Regression: MSE = {mse_lin}, R2 = {r2_lin}\")\n",
        "print(f\"Decision Tree: MSE = {mse_tree}, R2 = {r2_tree}\")\n",
        "print(f\"Random Forest: MSE = {mse_forest}, R2 = {r2_forest}\")"
      ],
      "metadata": {
        "id": "IAWlqL-OwwNm"
      },
      "execution_count": null,
      "outputs": []
    },
    {
      "cell_type": "markdown",
      "source": [
        "# ***CROSS-VALIDATION***"
      ],
      "metadata": {
        "id": "Lvk5ap-XYAQv"
      }
    },
    {
      "cell_type": "code",
      "source": [
        "from sklearn.model_selection import cross_val_score\n",
        "\n",
        "for name, model in models.items():\n",
        "    scores = cross_val_score(model, X, y, cv=5, scoring='neg_mean_squared_error')\n",
        "    print(f\"{name} - Cross-Validated MSE: {-scores.mean():.2f}\")"
      ],
      "metadata": {
        "id": "sjbUeApJQaDv"
      },
      "execution_count": null,
      "outputs": []
    },
    {
      "cell_type": "markdown",
      "source": [
        "# ***HYPERPARAMETER TUNING***"
      ],
      "metadata": {
        "id": "EUYS2lmxYIMS"
      }
    },
    {
      "cell_type": "code",
      "source": [
        "# Hyperparameter tuning for Decision Tree\n",
        "param_grid_tree = {\n",
        "    'max_depth': [None, 10, 20, 30],\n",
        "    'min_samples_split': [2, 5, 10]\n",
        "}\n",
        "grid_search_tree = GridSearchCV(DecisionTreeRegressor(random_state=42), param_grid_tree, cv=5, scoring='neg_mean_squared_error')\n",
        "grid_search_tree.fit(X_train, y_train)\n",
        "\n",
        "# Best parameters for Decision Tree\n",
        "best_tree = grid_search_tree.best_estimator_\n",
        "y_pred_best_tree = best_tree.predict(X_test)\n",
        "mse_best_tree, r2_best_tree = evaluate_model(y_test, y_pred_best_tree)\n",
        "\n",
        "print(f\"Best Decision Tree: MSE = {mse_best_tree}, R2 = {r2_best_tree}\")\n",
        "\n",
        "# Hyperparameter tuning for Random Forest\n",
        "param_grid_forest = {\n",
        "    'n_estimators': [50, 100, 200],\n",
        "    'max_depth': [None, 10, 20, 30],\n",
        "    'min_samples_split': [2, 5, 10]\n",
        "}\n",
        "grid_search_forest = GridSearchCV(RandomForestRegressor(random_state=42), param_grid_forest, cv=5, scoring='neg_mean_squared_error')\n",
        "grid_search_forest.fit(X_train, y_train)\n",
        "\n",
        "# Best parameters for Random Forest\n",
        "best_forest = grid_search_forest.best_estimator_\n",
        "y_pred_best_forest = best_forest.predict(X_test)\n",
        "mse_best_forest, r2_best_forest = evaluate_model(y_test, y_pred_best_forest)\n",
        "\n",
        "print(f\"Best Random Forest: MSE = {mse_best_forest}, R2 = {r2_best_forest}\")"
      ],
      "metadata": {
        "id": "RqzLLeEyXGbS"
      },
      "execution_count": null,
      "outputs": []
    },
    {
      "cell_type": "code",
      "source": [
        "# Print results for all models\n",
        "print(f\"Linear Regression: MSE = {mse_lin}, R2 = {r2_lin}\")\n",
        "print(f\"Decision Tree: MSE = {mse_tree}, R2 = {r2_tree}\")\n",
        "print(f\"Best Decision Tree: MSE = {mse_best_tree}, R2 = {r2_best_tree}\")\n",
        "print(f\"Random Forest: MSE = {mse_forest}, R2 = {r2_forest}\")\n",
        "print(f\"Best Random Forest: MSE = {mse_best_forest}, R2 = {r2_best_forest}\")\n",
        "\n",
        "# Choose the best model based on the lowest MSE\n",
        "best_model_name = \"Linear Regression\"\n",
        "best_mse = mse_lin\n",
        "\n",
        "if mse_best_tree < best_mse:\n",
        "    best_model_name = \"Best Decision Tree\"\n",
        "    best_mse = mse_best_tree\n",
        "\n",
        "if mse_best_forest < best_mse:\n",
        "    best_model_name = \"Best Random Forest\"\n",
        "    best_mse = mse_best_forest\n",
        "\n",
        "print(f\"The best model is: {best_model_name} with MSE = {best_mse}\")"
      ],
      "metadata": {
        "id": "O_eA9_6VXPBw"
      },
      "execution_count": null,
      "outputs": []
    },
    {
      "cell_type": "code",
      "source": [
        "# Plotting the predictions\n",
        "plt.figure(figsize=(12, 6))\n",
        "\n",
        "# Linear Regression\n",
        "plt.subplot(1, 3, 1)\n",
        "plt.scatter(y_test, y_pred_lin)\n",
        "plt.title('Linear Regression Predictions')\n",
        "plt.xlabel('Actual Sales')\n",
        "plt.ylabel('Predicted Sales')\n",
        "\n",
        "# Decision Tree\n",
        "plt.subplot(1, 3, 2)\n",
        "plt.scatter(y_test, y_pred_tree)\n",
        "plt.title('Decision Tree Predictions')\n",
        "plt.xlabel('Actual Sales')\n",
        "plt.ylabel('Predicted Sales')\n",
        "\n",
        "# Random Forest\n",
        "plt.subplot(1, 3, 3)\n",
        "plt.scatter(y_test, y_pred_forest)\n",
        "plt.title('Random Forest Predictions')\n",
        "plt.xlabel('Actual Sales')\n",
        "plt.ylabel('Predicted Sales')\n",
        "\n",
        "plt.tight_layout()\n",
        "plt.show()"
      ],
      "metadata": {
        "id": "wjOOQAiswwLe"
      },
      "execution_count": null,
      "outputs": []
    },
    {
      "cell_type": "markdown",
      "source": [
        "# ***VISUALIZATIONS***"
      ],
      "metadata": {
        "id": "bQac2paE_jpM"
      }
    },
    {
      "cell_type": "code",
      "source": [
        "from mpl_toolkits.mplot3d import Axes3D"
      ],
      "metadata": {
        "id": "9fwRlU3IwwGl"
      },
      "execution_count": null,
      "outputs": []
    },
    {
      "cell_type": "code",
      "source": [
        "# 3D Scatter Plot of Actual Sales\n",
        "fig = plt.figure(figsize=(12, 8))\n",
        "ax = fig.add_subplot(111, projection='3d')\n",
        "\n",
        "# Scatter plot\n",
        "ax.scatter(data['TV'], data['Radio'], data['Sales'], c='blue', marker='o', alpha=0.6)\n",
        "\n",
        "# Labels and title\n",
        "ax.set_xlabel('TV Advertising Spend')\n",
        "ax.set_ylabel('Radio Advertising Spend')\n",
        "ax.set_zlabel('Sales')\n",
        "ax.set_title('3D Scatter Plot of Actual Sales Data')\n",
        "\n",
        "plt.show()"
      ],
      "metadata": {
        "id": "bqriwRPKwwEN"
      },
      "execution_count": null,
      "outputs": []
    },
    {
      "cell_type": "code",
      "source": [
        "# 3D Scatter Plot of Predicted Sales\n",
        "fig = plt.figure(figsize=(12, 8))\n",
        "ax = fig.add_subplot(111, projection='3d')\n",
        "\n",
        "# Scatter plot for predictions\n",
        "ax.scatter(X_test['TV'], X_test['Radio'], y_pred_forest, c='red', marker='^', alpha=0.6, label='Predicted Sales')\n",
        "\n",
        "# Scatter plot for actual sales\n",
        "ax.scatter(X_test['TV'], X_test['Radio'], y_test, c='blue', marker='o', alpha=0.6, label='Actual Sales')\n",
        "\n",
        "# Labels and title\n",
        "ax.set_xlabel('TV Advertising Spend')\n",
        "ax.set_ylabel('Radio Advertising Spend')\n",
        "ax.set_zlabel('Sales')\n",
        "ax.set_title('3D Scatter Plot of Predicted vs Actual Sales')\n",
        "ax.legend()\n",
        "\n",
        "plt.show()"
      ],
      "metadata": {
        "id": "daNnSoYZCxsQ"
      },
      "execution_count": null,
      "outputs": []
    },
    {
      "cell_type": "code",
      "source": [
        "# Create a grid for TV and Radio\n",
        "TV_range = np.linspace(data['TV'].min(), data['TV'].max(), 100)\n",
        "Radio_range = np.linspace(data['Radio'].min(), data['Radio'].max(), 100)\n",
        "TV_grid, Radio_grid = np.meshgrid(TV_range, Radio_range)\n",
        "\n",
        "# Predict sales for the grid\n",
        "X_grid = pd.DataFrame({\n",
        "    'TV': TV_grid.ravel(),\n",
        "    'Radio': Radio_grid.ravel(),\n",
        "    'Newspaper': np.mean(data['Newspaper'])  # Use mean Newspaper spend for predictions\n",
        "})\n",
        "\n",
        "# Predict using the Random Forest model\n",
        "Sales_pred_grid = forest_reg.predict(X_grid).reshape(TV_grid.shape)\n",
        "\n",
        "# 3D Surface Plot\n",
        "fig = plt.figure(figsize=(12, 8))\n",
        "ax = fig.add_subplot(111, projection='3d')\n",
        "\n",
        "# Surface plot\n",
        "ax.plot_surface(TV_grid, Radio_grid, Sales_pred_grid, cmap='viridis', alpha=0.7)\n",
        "\n",
        "# Labels and title\n",
        "ax.set_xlabel('TV Advertising Spend')\n",
        "ax.set_ylabel('Radio Advertising Spend')\n",
        "ax.set_zlabel('Predicted Sales')\n",
        "ax.set_title('3D Surface Plot of Predicted Sales')\n",
        "\n",
        "plt.show()"
      ],
      "metadata": {
        "id": "kirBMYAXCxor"
      },
      "execution_count": null,
      "outputs": []
    },
    {
      "cell_type": "code",
      "source": [
        "import matplotlib.pyplot as plt\n",
        "from mpl_toolkits.mplot3d import Axes3D\n",
        "\n",
        "# ... your data loading code ...\n",
        "\n",
        "fig = plt.figure()\n",
        "ax = fig.add_subplot(projection='3d')\n",
        "\n",
        "# Assuming your DataFrame has 'TV', 'Radio', 'Newspaper', and 'Sales' columns\n",
        "ax.scatter(data['TV'], data['Radio'], data['Newspaper'], c=data['Sales'], cmap='viridis')\n",
        "\n",
        "ax.set_xlabel('TV')\n",
        "ax.set_ylabel('Radio')\n",
        "ax.set_zlabel('Newspaper')\n",
        "plt.show()"
      ],
      "metadata": {
        "id": "8CorpmXkCxhv"
      },
      "execution_count": null,
      "outputs": []
    },
    {
      "cell_type": "code",
      "source": [
        "# Create a histogram for the 'TV' advertising budget\n",
        "plt.figure(figsize=(10, 6))  # Set the figure size\n",
        "data['TV'].plot.hist(bins=10, color='gold', edgecolor='black')  # Plot histogram\n",
        "\n",
        "# Customize the plot\n",
        "plt.title('Histogram of TV Advertising Budget', fontsize=16)  # Title of the histogram\n",
        "plt.xlabel('TV Advertising Budget', fontsize=14)  # X-axis label\n",
        "plt.ylabel('Frequency', fontsize=14)  # Y-axis label\n",
        "plt.grid(axis='y', alpha=0.75)  # Add grid lines for better readability\n",
        "\n",
        "# Show the plot\n",
        "plt.show()"
      ],
      "metadata": {
        "id": "85ZfFzYJG7mb"
      },
      "execution_count": null,
      "outputs": []
    },
    {
      "cell_type": "markdown",
      "source": [
        "# ***Conclusion***\n",
        "This structured approach allows you to evaluate the error rates of different models, perform hyperparameter tuning, and ultimately select the best model based on performance metrics. The model with the lowest Mean Squared Error (MSE) or highest R² score is typically considered the best for the given dataset."
      ],
      "metadata": {
        "id": "_Ny5OeJXYxup"
      }
    }
  ]
}